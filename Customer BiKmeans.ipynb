{
 "cells": [
  {
   "cell_type": "code",
   "execution_count": 1,
   "id": "01b64833-cfd3-47b1-bb5e-e2ee06621542",
   "metadata": {
    "tags": []
   },
   "outputs": [
    {
     "name": "stdout",
     "output_type": "stream",
     "text": [
      "Python version: 3.8.16 | packaged by conda-forge | (default, Feb  1 2023, 16:05:36) \n",
      "[Clang 14.0.6 ]\n",
      "pandas version: 1.5.3\n",
      "NumPy version: 1.24.2\n",
      "SciPy version: 1.10.0\n",
      "IPython version: 8.9.0\n",
      "scikit-learn version: 1.2.2\n"
     ]
    }
   ],
   "source": [
    "import sys\n",
    "print(\"Python version: {}\".format(sys.version))\n",
    "import pandas as pd\n",
    "print(\"pandas version: {}\".format(pd.__version__))\n",
    "import numpy as np\n",
    "print(\"NumPy version: {}\".format(np.__version__))\n",
    "import scipy as sp\n",
    "print(\"SciPy version: {}\".format(sp.__version__))\n",
    "import IPython\n",
    "print(\"IPython version: {}\".format(IPython.__version__))\n",
    "import sklearn\n",
    "print(\"scikit-learn version: {}\".format(sklearn.__version__))\n",
    "import matplotlib.pyplot as plt\n",
    "# Import seaborn\n",
    "import seaborn as sns"
   ]
  },
  {
   "cell_type": "code",
   "execution_count": 2,
   "id": "4fb4a17d-687a-43bc-9894-8d18350dbdd7",
   "metadata": {
    "tags": []
   },
   "outputs": [
    {
     "name": "stderr",
     "output_type": "stream",
     "text": [
      "24/01/11 20:48:12 WARN Utils: Your hostname, MacBook-Pro-de-Rafael.local resolves to a loopback address: 127.0.0.1; using 10.5.61.97 instead (on interface en0)\n",
      "24/01/11 20:48:12 WARN Utils: Set SPARK_LOCAL_IP if you need to bind to another address\n",
      "Setting default log level to \"WARN\".\n",
      "To adjust logging level use sc.setLogLevel(newLevel). For SparkR, use setLogLevel(newLevel).\n",
      "24/01/11 20:48:13 WARN NativeCodeLoader: Unable to load native-hadoop library for your platform... using builtin-java classes where applicable\n",
      "24/01/11 20:48:14 WARN Utils: Service 'SparkUI' could not bind on port 4040. Attempting port 4041.\n",
      "24/01/11 20:48:14 WARN Utils: Service 'SparkUI' could not bind on port 4041. Attempting port 4042.\n",
      "24/01/11 20:48:14 WARN Utils: Service 'SparkUI' could not bind on port 4042. Attempting port 4043.\n"
     ]
    }
   ],
   "source": [
    "from pyspark.sql import SparkSession\n",
    "spark = SparkSession.builder.master(\"local\").appName(\"Customer Clustering Bisecting Kmeans prueba\")\\\n",
    "      .config(\"spark.some.config.option\", \"some-value\")\\\n",
    "      .getOrCreate()"
   ]
  },
  {
   "cell_type": "code",
   "execution_count": 3,
   "id": "17a17c1f-360d-4a32-9938-aaa62f57be78",
   "metadata": {
    "tags": []
   },
   "outputs": [
    {
     "name": "stdout",
     "output_type": "stream",
     "text": [
      "Requirement already satisfied: pyarrow in /Users/rafaelotero/Library/jupyterlab-desktop/jlab_server/lib/python3.8/site-packages (14.0.2)\n",
      "Requirement already satisfied: numpy>=1.16.6 in /Users/rafaelotero/Library/jupyterlab-desktop/jlab_server/lib/python3.8/site-packages (from pyarrow) (1.24.2)\n",
      "Note: you may need to restart the kernel to use updated packages.\n"
     ]
    }
   ],
   "source": [
    "pip install pyarrow"
   ]
  },
  {
   "cell_type": "code",
   "execution_count": 4,
   "id": "cef25950-9101-4a3c-9d1c-7e8672752ef2",
   "metadata": {
    "tags": []
   },
   "outputs": [],
   "source": [
    "customer=pd.read_csv('/Users/rafaelotero/Desktop/Credit Card Customer Data.csv')"
   ]
  },
  {
   "cell_type": "code",
   "execution_count": 5,
   "id": "80ac2db9-1e51-48c5-8ec1-7348c51d7822",
   "metadata": {
    "tags": []
   },
   "outputs": [],
   "source": [
    "#Definimos los percentiles\n",
    "\n",
    "Q1 = customer[\"Avg_Credit_Limit\"].quantile(0.25)\n",
    "Q2 = customer[\"Avg_Credit_Limit\"].quantile(0.50)\n",
    "Q3 = customer[\"Avg_Credit_Limit\"].quantile(0.75)"
   ]
  },
  {
   "cell_type": "code",
   "execution_count": 6,
   "id": "527106b1-1bc8-4a8d-adb5-49a572ddae5d",
   "metadata": {
    "tags": []
   },
   "outputs": [],
   "source": [
    "IQR = Q3-Q1\n",
    "limite_bajo  = Q1 - 1.5 * IQR\n",
    "limite_alto = Q3 + 1.5 * IQR"
   ]
  },
  {
   "cell_type": "code",
   "execution_count": 7,
   "id": "045c9ece-5813-43aa-b414-d77ef6375161",
   "metadata": {
    "tags": []
   },
   "outputs": [],
   "source": [
    "customer['Avg_Credit_Limit'] = np.where((customer['Avg_Credit_Limit'] > limite_alto), limite_alto, customer['Avg_Credit_Limit'])"
   ]
  },
  {
   "cell_type": "code",
   "execution_count": 8,
   "id": "f56feaf0-9b11-45d8-a4d9-1cc9a534b9b3",
   "metadata": {
    "tags": []
   },
   "outputs": [
    {
     "data": {
      "image/png": "[encoded data removed]",
      "text/plain": [
       "<Figure size 640x480 with 1 Axes>"
      ]
     },
     "metadata": {},
     "output_type": "display_data"
    }
   ],
   "source": [
    "sns.boxplot(x = customer['Avg_Credit_Limit'])\n",
    "plt.show()"
   ]
  },
  {
   "cell_type": "code",
   "execution_count": 9,
   "id": "c3ddf7ed-e531-4ed8-9f9f-28ee9b8c7b9b",
   "metadata": {
    "tags": []
   },
   "outputs": [],
   "source": [
    "#Definimos los percentiles\n",
    "\n",
    "Q12 = customer[\"Total_visits_online\"].quantile(0.25)\n",
    "Q22 = customer[\"Total_visits_online\"].quantile(0.50)\n",
    "Q32 = customer[\"Total_visits_online\"].quantile(0.75)\n",
    "\n",
    "IQR2 = Q32-Q12\n",
    "limite_bajo2  = Q12 - 1.5 * IQR2\n",
    "limite_alto2 = Q32 + 1.5 * IQR2"
   ]
  },
  {
   "cell_type": "code",
   "execution_count": 10,
   "id": "1c35c2d9-5d8e-4ae1-8e08-fa1fc2ae45dc",
   "metadata": {
    "tags": []
   },
   "outputs": [],
   "source": [
    "customer['Total_visits_online'] = np.where((customer['Total_visits_online'] > limite_alto2), limite_alto2, customer['Total_visits_online'])"
   ]
  },
  {
   "cell_type": "code",
   "execution_count": 11,
   "id": "ea87fa2f-6dcc-404e-9296-f6aec1053023",
   "metadata": {
    "tags": []
   },
   "outputs": [
    {
     "data": {
      "image/png": "[encoded data removed]",
      "text/plain": [
       "<Figure size 640x480 with 1 Axes>"
      ]
     },
     "metadata": {},
     "output_type": "display_data"
    }
   ],
   "source": [
    "sns.boxplot(x = customer['Total_visits_online'])\n",
    "plt.show()"
   ]
  },
  {
   "cell_type": "code",
   "execution_count": 16,
   "id": "660f572e-04d7-4081-b4b2-42ae8013409e",
   "metadata": {
    "tags": []
   },
   "outputs": [
    {
     "data": {
      "text/html": [
       "<div>\n",
       "<style scoped>\n",
       "    .dataframe tbody tr th:only-of-type {\n",
       "        vertical-align: middle;\n",
       "    }\n",
       "\n",
       "    .dataframe tbody tr th {\n",
       "        vertical-align: top;\n",
       "    }\n",
       "\n",
       "    .dataframe thead th {\n",
       "        text-align: right;\n",
       "    }\n",
       "</style>\n",
       "<table border=\"1\" class=\"dataframe\">\n",
       "  <thead>\n",
       "    <tr style=\"text-align: right;\">\n",
       "      <th></th>\n",
       "      <th>Avg_Credit_Limit</th>\n",
       "      <th>Total_Credit_Cards</th>\n",
       "      <th>Total_visits_bank</th>\n",
       "      <th>Total_visits_online</th>\n",
       "      <th>Total_calls_made</th>\n",
       "    </tr>\n",
       "  </thead>\n",
       "  <tbody>\n",
       "    <tr>\n",
       "      <th>0</th>\n",
       "      <td>100000.0</td>\n",
       "      <td>2</td>\n",
       "      <td>1</td>\n",
       "      <td>1.0</td>\n",
       "      <td>0</td>\n",
       "    </tr>\n",
       "    <tr>\n",
       "      <th>1</th>\n",
       "      <td>50000.0</td>\n",
       "      <td>3</td>\n",
       "      <td>0</td>\n",
       "      <td>8.5</td>\n",
       "      <td>9</td>\n",
       "    </tr>\n",
       "    <tr>\n",
       "      <th>2</th>\n",
       "      <td>50000.0</td>\n",
       "      <td>7</td>\n",
       "      <td>1</td>\n",
       "      <td>3.0</td>\n",
       "      <td>4</td>\n",
       "    </tr>\n",
       "    <tr>\n",
       "      <th>3</th>\n",
       "      <td>30000.0</td>\n",
       "      <td>5</td>\n",
       "      <td>1</td>\n",
       "      <td>1.0</td>\n",
       "      <td>4</td>\n",
       "    </tr>\n",
       "    <tr>\n",
       "      <th>4</th>\n",
       "      <td>100000.0</td>\n",
       "      <td>6</td>\n",
       "      <td>0</td>\n",
       "      <td>8.5</td>\n",
       "      <td>3</td>\n",
       "    </tr>\n",
       "  </tbody>\n",
       "</table>\n",
       "</div>"
      ],
      "text/plain": [
       "   Avg_Credit_Limit  Total_Credit_Cards  Total_visits_bank  \\\n",
       "0          100000.0                   2                  1   \n",
       "1           50000.0                   3                  0   \n",
       "2           50000.0                   7                  1   \n",
       "3           30000.0                   5                  1   \n",
       "4          100000.0                   6                  0   \n",
       "\n",
       "   Total_visits_online  Total_calls_made  \n",
       "0                  1.0                 0  \n",
       "1                  8.5                 9  \n",
       "2                  3.0                 4  \n",
       "3                  1.0                 4  \n",
       "4                  8.5                 3  "
      ]
     },
     "execution_count": 16,
     "metadata": {},
     "output_type": "execute_result"
    }
   ],
   "source": [
    "#Eliminamos las columnas que no necesitamos\n",
    "\n",
    "customer_practico = customer.drop(['Sl_No','Customer Key'],axis=1)\n",
    "customer_practico.head()"
   ]
  },
  {
   "cell_type": "code",
   "execution_count": 17,
   "id": "ae3b913e-318f-4d4c-a83a-acdb9e35cf5f",
   "metadata": {
    "tags": []
   },
   "outputs": [
    {
     "name": "stderr",
     "output_type": "stream",
     "text": [
      "                                                                                \r"
     ]
    },
    {
     "name": "stdout",
     "output_type": "stream",
     "text": [
      "+----------------+------------------+-----------------+-------------------+----------------+\n",
      "|Avg_Credit_Limit|Total_Credit_Cards|Total_visits_bank|Total_visits_online|Total_calls_made|\n",
      "+----------------+------------------+-----------------+-------------------+----------------+\n",
      "|        100000.0|                 2|                1|                1.0|               0|\n",
      "|         50000.0|                 3|                0|                8.5|               9|\n",
      "|         50000.0|                 7|                1|                3.0|               4|\n",
      "|         30000.0|                 5|                1|                1.0|               4|\n",
      "|        100000.0|                 6|                0|                8.5|               3|\n",
      "|         20000.0|                 3|                0|                1.0|               8|\n",
      "|        100000.0|                 5|                0|                8.5|               2|\n",
      "|         15000.0|                 3|                0|                1.0|               1|\n",
      "|          5000.0|                 2|                0|                2.0|               2|\n",
      "|          3000.0|                 4|                0|                1.0|               7|\n",
      "|         10000.0|                 4|                0|                5.0|               5|\n",
      "|         13000.0|                 3|                0|                2.0|               7|\n",
      "|         11000.0|                 1|                2|                5.0|               9|\n",
      "|          9000.0|                 1|                1|                5.0|               6|\n",
      "|          6000.0|                 2|                2|                4.0|               6|\n",
      "|          8000.0|                 2|                0|                5.0|               7|\n",
      "|         15000.0|                 2|                1|                2.0|               4|\n",
      "|          8000.0|                 2|                0|                3.0|               4|\n",
      "|         11000.0|                 2|                2|                2.0|               7|\n",
      "|         19000.0|                 4|                1|                5.0|               8|\n",
      "+----------------+------------------+-----------------+-------------------+----------------+\n",
      "only showing top 20 rows\n",
      "\n"
     ]
    }
   ],
   "source": [
    "# Convertir el DataFrame de pandas a DataFrame de Spark\n",
    "customer_spark = spark.createDataFrame(customer_practico)\n",
    "\n",
    "# Mostrar el DataFrame de Spark\n",
    "customer_spark.show()"
   ]
  },
  {
   "cell_type": "code",
   "execution_count": 18,
   "id": "cbd809fd-08ca-4ed6-9873-bce8b15029f4",
   "metadata": {
    "tags": []
   },
   "outputs": [
    {
     "name": "stdout",
     "output_type": "stream",
     "text": [
      "+----------------+------------------+-----------------+-------------------+----------------+--------------------+\n",
      "|Avg_Credit_Limit|Total_Credit_Cards|Total_visits_bank|Total_visits_online|Total_calls_made|            features|\n",
      "+----------------+------------------+-----------------+-------------------+----------------+--------------------+\n",
      "|        100000.0|                 2|                1|                1.0|               0|[100000.0,2.0,1.0...|\n",
      "|         50000.0|                 3|                0|                8.5|               9|[50000.0,3.0,0.0,...|\n",
      "|         50000.0|                 7|                1|                3.0|               4|[50000.0,7.0,1.0,...|\n",
      "|         30000.0|                 5|                1|                1.0|               4|[30000.0,5.0,1.0,...|\n",
      "|        100000.0|                 6|                0|                8.5|               3|[100000.0,6.0,0.0...|\n",
      "|         20000.0|                 3|                0|                1.0|               8|[20000.0,3.0,0.0,...|\n",
      "|        100000.0|                 5|                0|                8.5|               2|[100000.0,5.0,0.0...|\n",
      "|         15000.0|                 3|                0|                1.0|               1|[15000.0,3.0,0.0,...|\n",
      "|          5000.0|                 2|                0|                2.0|               2|[5000.0,2.0,0.0,2...|\n",
      "|          3000.0|                 4|                0|                1.0|               7|[3000.0,4.0,0.0,1...|\n",
      "|         10000.0|                 4|                0|                5.0|               5|[10000.0,4.0,0.0,...|\n",
      "|         13000.0|                 3|                0|                2.0|               7|[13000.0,3.0,0.0,...|\n",
      "|         11000.0|                 1|                2|                5.0|               9|[11000.0,1.0,2.0,...|\n",
      "|          9000.0|                 1|                1|                5.0|               6|[9000.0,1.0,1.0,5...|\n",
      "|          6000.0|                 2|                2|                4.0|               6|[6000.0,2.0,2.0,4...|\n",
      "|          8000.0|                 2|                0|                5.0|               7|[8000.0,2.0,0.0,5...|\n",
      "|         15000.0|                 2|                1|                2.0|               4|[15000.0,2.0,1.0,...|\n",
      "|          8000.0|                 2|                0|                3.0|               4|[8000.0,2.0,0.0,3...|\n",
      "|         11000.0|                 2|                2|                2.0|               7|[11000.0,2.0,2.0,...|\n",
      "|         19000.0|                 4|                1|                5.0|               8|[19000.0,4.0,1.0,...|\n",
      "+----------------+------------------+-----------------+-------------------+----------------+--------------------+\n",
      "only showing top 20 rows\n",
      "\n"
     ]
    }
   ],
   "source": [
    "# Para aplicar un modelo de Spark debemos vectorizar nuestros datos para cada punto.\n",
    "\n",
    "from pyspark.ml.feature import VectorAssembler\n",
    "assembler = VectorAssembler(inputCols=customer_spark.columns,outputCol=\"features\")\n",
    "customer_spark = assembler.transform(customer_spark)\n",
    "customer_spark.show()"
   ]
  },
  {
   "cell_type": "code",
   "execution_count": 19,
   "id": "c443928d-389d-4385-a53c-e507fcf169ec",
   "metadata": {
    "tags": []
   },
   "outputs": [
    {
     "name": "stderr",
     "output_type": "stream",
     "text": [
      "                                                                                \r"
     ]
    },
    {
     "name": "stdout",
     "output_type": "stream",
     "text": [
      "+----------------+------------------+-----------------+-------------------+----------------+--------------------+--------------------+\n",
      "|Avg_Credit_Limit|Total_Credit_Cards|Total_visits_bank|Total_visits_online|Total_calls_made|            features|      scaledFeatures|\n",
      "+----------------+------------------+-----------------+-------------------+----------------+--------------------+--------------------+\n",
      "|        100000.0|                 2|                1|                1.0|               0|[100000.0,2.0,1.0...|[2.39712366686785...|\n",
      "|         50000.0|                 3|                0|                8.5|               9|[50000.0,3.0,0.0,...|[0.64313073989137...|\n",
      "|         50000.0|                 7|                1|                3.0|               4|[50000.0,7.0,1.0,...|[0.64313073989137...|\n",
      "|         30000.0|                 5|                1|                1.0|               4|[30000.0,5.0,1.0,...|[-0.0584664308992...|\n",
      "|        100000.0|                 6|                0|                8.5|               3|[100000.0,6.0,0.0...|[2.39712366686785...|\n",
      "|         20000.0|                 3|                0|                1.0|               8|[20000.0,3.0,0.0,...|[-0.4092650162945...|\n",
      "|        100000.0|                 5|                0|                8.5|               2|[100000.0,5.0,0.0...|[2.39712366686785...|\n",
      "|         15000.0|                 3|                0|                1.0|               1|[15000.0,3.0,0.0,...|[-0.5846643089921...|\n",
      "|          5000.0|                 2|                0|                2.0|               2|[5000.0,2.0,0.0,2...|[-0.9354628943874...|\n",
      "|          3000.0|                 4|                0|                1.0|               7|[3000.0,4.0,0.0,1...|[-1.0056226114665...|\n",
      "|         10000.0|                 4|                0|                5.0|               5|[10000.0,4.0,0.0,...|[-0.7600636016898...|\n",
      "|         13000.0|                 3|                0|                2.0|               7|[13000.0,3.0,0.0,...|[-0.6548240260712...|\n",
      "|         11000.0|                 1|                2|                5.0|               9|[11000.0,1.0,2.0,...|[-0.7249837431502...|\n",
      "|          9000.0|                 1|                1|                5.0|               6|[9000.0,1.0,1.0,5...|[-0.7951434602293...|\n",
      "|          6000.0|                 2|                2|                4.0|               6|[6000.0,2.0,2.0,4...|[-0.9003830358479...|\n",
      "|          8000.0|                 2|                0|                5.0|               7|[8000.0,2.0,0.0,5...|[-0.8302233187688...|\n",
      "|         15000.0|                 2|                1|                2.0|               4|[15000.0,2.0,1.0,...|[-0.5846643089921...|\n",
      "|          8000.0|                 2|                0|                3.0|               4|[8000.0,2.0,0.0,3...|[-0.8302233187688...|\n",
      "|         11000.0|                 2|                2|                2.0|               7|[11000.0,2.0,2.0,...|[-0.7249837431502...|\n",
      "|         19000.0|                 4|                1|                5.0|               8|[19000.0,4.0,1.0,...|[-0.4443448748340...|\n",
      "+----------------+------------------+-----------------+-------------------+----------------+--------------------+--------------------+\n",
      "only showing top 20 rows\n",
      "\n"
     ]
    }
   ],
   "source": [
    "# Aplicamos el método StandardScaler para escalar nuestros datos y dejarlos con media nula y varianza la unidad.\n",
    "from pyspark.ml.feature import StandardScaler\n",
    "\n",
    "scaler = StandardScaler(inputCol=\"features\", outputCol=\"scaledFeatures\",\n",
    "                        withStd=True, withMean=True)  #Marcamos withMean=True para que nos escale los datos con media nula.\n",
    "\n",
    "scalerModel = scaler.fit(customer_spark)\n",
    "customer_spark_scaled = scalerModel.transform(customer_spark)\n",
    "customer_spark_scaled.show()"
   ]
  },
  {
   "cell_type": "code",
   "execution_count": 29,
   "id": "dc3bcd74-10d9-403e-85e5-92c9b3c9a62a",
   "metadata": {
    "tags": []
   },
   "outputs": [
    {
     "name": "stdout",
     "output_type": "stream",
     "text": [
      "+----------------+------------------+-----------------+-------------------+----------------+--------------------+--------------------+--------------------+\n",
      "|Avg_Credit_Limit|Total_Credit_Cards|Total_visits_bank|Total_visits_online|Total_calls_made|            features|      scaledFeatures|scaledminMaxFeatures|\n",
      "+----------------+------------------+-----------------+-------------------+----------------+--------------------+--------------------+--------------------+\n",
      "|        100000.0|                 2|                1|                1.0|               0|[100000.0,2.0,1.0...|[2.39712366686785...|[0.95098039215686...|\n",
      "|         50000.0|                 3|                0|                8.5|               9|[50000.0,3.0,0.0,...|[0.64313073989137...|[0.46078431372549...|\n",
      "|         50000.0|                 7|                1|                3.0|               4|[50000.0,7.0,1.0,...|[0.64313073989137...|[0.46078431372549...|\n",
      "|         30000.0|                 5|                1|                1.0|               4|[30000.0,5.0,1.0,...|[-0.0584664308992...|[0.26470588235294...|\n",
      "|        100000.0|                 6|                0|                8.5|               3|[100000.0,6.0,0.0...|[2.39712366686785...|[0.95098039215686...|\n",
      "|         20000.0|                 3|                0|                1.0|               8|[20000.0,3.0,0.0,...|[-0.4092650162945...|[0.16666666666666...|\n",
      "|        100000.0|                 5|                0|                8.5|               2|[100000.0,5.0,0.0...|[2.39712366686785...|[0.95098039215686...|\n",
      "|         15000.0|                 3|                0|                1.0|               1|[15000.0,3.0,0.0,...|[-0.5846643089921...|[0.11764705882352...|\n",
      "|          5000.0|                 2|                0|                2.0|               2|[5000.0,2.0,0.0,2...|[-0.9354628943874...|[0.01960784313725...|\n",
      "|          3000.0|                 4|                0|                1.0|               7|[3000.0,4.0,0.0,1...|[-1.0056226114665...|[0.0,0.3333333333...|\n",
      "|         10000.0|                 4|                0|                5.0|               5|[10000.0,4.0,0.0,...|[-0.7600636016898...|[0.06862745098039...|\n",
      "|         13000.0|                 3|                0|                2.0|               7|[13000.0,3.0,0.0,...|[-0.6548240260712...|[0.09803921568627...|\n",
      "|         11000.0|                 1|                2|                5.0|               9|[11000.0,1.0,2.0,...|[-0.7249837431502...|[0.07843137254901...|\n",
      "|          9000.0|                 1|                1|                5.0|               6|[9000.0,1.0,1.0,5...|[-0.7951434602293...|[0.05882352941176...|\n",
      "|          6000.0|                 2|                2|                4.0|               6|[6000.0,2.0,2.0,4...|[-0.9003830358479...|[0.02941176470588...|\n",
      "|          8000.0|                 2|                0|                5.0|               7|[8000.0,2.0,0.0,5...|[-0.8302233187688...|[0.04901960784313...|\n",
      "|         15000.0|                 2|                1|                2.0|               4|[15000.0,2.0,1.0,...|[-0.5846643089921...|[0.11764705882352...|\n",
      "|          8000.0|                 2|                0|                3.0|               4|[8000.0,2.0,0.0,3...|[-0.8302233187688...|[0.04901960784313...|\n",
      "|         11000.0|                 2|                2|                2.0|               7|[11000.0,2.0,2.0,...|[-0.7249837431502...|[0.07843137254901...|\n",
      "|         19000.0|                 4|                1|                5.0|               8|[19000.0,4.0,1.0,...|[-0.4443448748340...|[0.15686274509803...|\n",
      "+----------------+------------------+-----------------+-------------------+----------------+--------------------+--------------------+--------------------+\n",
      "only showing top 20 rows\n",
      "\n"
     ]
    }
   ],
   "source": [
    "from pyspark.ml.feature import MinMaxScaler\n",
    "\n",
    "scalermM = MinMaxScaler(inputCol=\"features\", outputCol=\"scaledminMaxFeatures\")\n",
    "\n",
    "# Compute summary statistics and generate MinMaxScalerModel\n",
    "scalermMModel = scalermM.fit(customer_spark_scaled)\n",
    "\n",
    "# rescale each feature to range [min, max].\n",
    "customer_spark_scaledmM = scalermMModel.transform(customer_spark_scaled)\n",
    "customer_spark_scaledmM.show()"
   ]
  },
  {
   "cell_type": "code",
   "execution_count": 34,
   "id": "632439a9-64f3-4dca-8071-4ef5502dbb09",
   "metadata": {
    "tags": []
   },
   "outputs": [],
   "source": [
    "from pyspark.ml.clustering import BisectingKMeans\n",
    "\n",
    "# Creamos el modelo Bisecting K-means con el número deseado de clústeres (3 en este caso)\n",
    "bikmeans = BisectingKMeans(k=3, featuresCol=\"scaledminMaxFeatures\", predictionCol=\"cluster\")\n",
    "\n",
    "# Ajustamos el modelo a los datos escalados\n",
    "bikmeansmodel = bikmeans.fit(customer_spark_scaledmM)\n",
    "\n",
    "# Realizamos la predicción de clústeres en los datos escalados\n",
    "predictionsbikmeans = bikmeansmodel.transform(customer_spark_scaledmM)"
   ]
  },
  {
   "cell_type": "code",
   "execution_count": 35,
   "id": "e5d860cd-7245-4433-8428-e9f22e17cd65",
   "metadata": {
    "tags": []
   },
   "outputs": [
    {
     "name": "stdout",
     "output_type": "stream",
     "text": [
      "+----------------+------------------+-----------------+-------------------+----------------+--------------------+--------------------+--------------------+-------+\n",
      "|Avg_Credit_Limit|Total_Credit_Cards|Total_visits_bank|Total_visits_online|Total_calls_made|            features|      scaledFeatures|scaledminMaxFeatures|cluster|\n",
      "+----------------+------------------+-----------------+-------------------+----------------+--------------------+--------------------+--------------------+-------+\n",
      "|        100000.0|                 2|                1|                1.0|               0|[100000.0,2.0,1.0...|[2.39712366686785...|[0.95098039215686...|      2|\n",
      "|         50000.0|                 3|                0|                8.5|               9|[50000.0,3.0,0.0,...|[0.64313073989137...|[0.46078431372549...|      0|\n",
      "|         50000.0|                 7|                1|                3.0|               4|[50000.0,7.0,1.0,...|[0.64313073989137...|[0.46078431372549...|      2|\n",
      "|         30000.0|                 5|                1|                1.0|               4|[30000.0,5.0,1.0,...|[-0.0584664308992...|[0.26470588235294...|      2|\n",
      "|        100000.0|                 6|                0|                8.5|               3|[100000.0,6.0,0.0...|[2.39712366686785...|[0.95098039215686...|      1|\n",
      "|         20000.0|                 3|                0|                1.0|               8|[20000.0,3.0,0.0,...|[-0.4092650162945...|[0.16666666666666...|      0|\n",
      "|        100000.0|                 5|                0|                8.5|               2|[100000.0,5.0,0.0...|[2.39712366686785...|[0.95098039215686...|      1|\n",
      "|         15000.0|                 3|                0|                1.0|               1|[15000.0,3.0,0.0,...|[-0.5846643089921...|[0.11764705882352...|      0|\n",
      "|          5000.0|                 2|                0|                2.0|               2|[5000.0,2.0,0.0,2...|[-0.9354628943874...|[0.01960784313725...|      0|\n",
      "|          3000.0|                 4|                0|                1.0|               7|[3000.0,4.0,0.0,1...|[-1.0056226114665...|[0.0,0.3333333333...|      0|\n",
      "|         10000.0|                 4|                0|                5.0|               5|[10000.0,4.0,0.0,...|[-0.7600636016898...|[0.06862745098039...|      0|\n",
      "|         13000.0|                 3|                0|                2.0|               7|[13000.0,3.0,0.0,...|[-0.6548240260712...|[0.09803921568627...|      0|\n",
      "|         11000.0|                 1|                2|                5.0|               9|[11000.0,1.0,2.0,...|[-0.7249837431502...|[0.07843137254901...|      0|\n",
      "|          9000.0|                 1|                1|                5.0|               6|[9000.0,1.0,1.0,5...|[-0.7951434602293...|[0.05882352941176...|      0|\n",
      "|          6000.0|                 2|                2|                4.0|               6|[6000.0,2.0,2.0,4...|[-0.9003830358479...|[0.02941176470588...|      0|\n",
      "|          8000.0|                 2|                0|                5.0|               7|[8000.0,2.0,0.0,5...|[-0.8302233187688...|[0.04901960784313...|      0|\n",
      "|         15000.0|                 2|                1|                2.0|               4|[15000.0,2.0,1.0,...|[-0.5846643089921...|[0.11764705882352...|      0|\n",
      "|          8000.0|                 2|                0|                3.0|               4|[8000.0,2.0,0.0,3...|[-0.8302233187688...|[0.04901960784313...|      0|\n",
      "|         11000.0|                 2|                2|                2.0|               7|[11000.0,2.0,2.0,...|[-0.7249837431502...|[0.07843137254901...|      0|\n",
      "|         19000.0|                 4|                1|                5.0|               8|[19000.0,4.0,1.0,...|[-0.4443448748340...|[0.15686274509803...|      0|\n",
      "+----------------+------------------+-----------------+-------------------+----------------+--------------------+--------------------+--------------------+-------+\n",
      "only showing top 20 rows\n",
      "\n"
     ]
    }
   ],
   "source": [
    "predictionsbikmeans.show()"
   ]
  },
  {
   "cell_type": "code",
   "execution_count": 37,
   "id": "292cf693-2ed9-4b4f-805b-02ae4f89d6d0",
   "metadata": {
    "tags": []
   },
   "outputs": [
    {
     "name": "stdout",
     "output_type": "stream",
     "text": [
      "+-------+-----+\n",
      "|cluster|count|\n",
      "+-------+-----+\n",
      "|      1|   50|\n",
      "|      2|  386|\n",
      "|      0|  224|\n",
      "+-------+-----+\n",
      "\n"
     ]
    }
   ],
   "source": [
    "predictionsbikmeans.groupby('cluster').count().show()"
   ]
  },
  {
   "cell_type": "code",
   "execution_count": 42,
   "id": "e0a2bfe4-bb96-452f-85cb-fdceab5a2e74",
   "metadata": {
    "tags": []
   },
   "outputs": [
    {
     "name": "stdout",
     "output_type": "stream",
     "text": [
      "Silhouette with squared euclidean distance = 0.7325701243817284\n"
     ]
    }
   ],
   "source": [
    "from pyspark.ml.evaluation import ClusteringEvaluator\n",
    "\n",
    "# Evaluate clustering by computing Silhouette score\n",
    "evaluatorbikmeans = ClusteringEvaluator(featuresCol='scaledminMaxFeatures', predictionCol='cluster')\n",
    "\n",
    "silhouette = evaluatorbikmeans.evaluate(predictionsbikmeans)\n",
    "print(\"Silhouette with squared euclidean distance = \" + str(silhouette))"
   ]
  },
  {
   "cell_type": "code",
   "execution_count": 43,
   "id": "de21bed7-beac-46c6-8146-5c71cbde35f0",
   "metadata": {
    "tags": []
   },
   "outputs": [
    {
     "name": "stderr",
     "output_type": "stream",
     "text": [
      "24/01/11 21:29:55 WARN InstanceBuilder: Failed to load implementation from:dev.ludovic.netlib.lapack.JNILAPACK\n"
     ]
    }
   ],
   "source": [
    "from pyspark.ml.feature import PCA\n",
    "\n",
    "pca = PCA(k=2, inputCol=\"scaledFeatures\", outputCol=\"pcaFeatures\")\n",
    "pcamodel = pca.fit(customer_spark_scaled)\n",
    "customer_pca_spark = pcamodel.transform(customer_spark_scaled).select('pcaFeatures')"
   ]
  },
  {
   "cell_type": "code",
   "execution_count": 44,
   "id": "ac130a22-2a11-4f9d-b517-e2ac383757c5",
   "metadata": {
    "tags": []
   },
   "outputs": [
    {
     "name": "stdout",
     "output_type": "stream",
     "text": [
      "+-----------------------------------------+\n",
      "|pcaFeatures                              |\n",
      "+-----------------------------------------+\n",
      "|[-0.7341660838269763,0.8986051399540523] |\n",
      "|[2.3787814650682737,2.692662673419947]   |\n",
      "|[-0.3396694603751786,1.1843807733309495] |\n",
      "|[0.2827512382120267,0.00948478537336368] |\n",
      "|[-0.2852265225563084,3.882247740168497]  |\n",
      "|[1.994334188038595,-0.06798878644311804] |\n",
      "|[-0.23527258568068543,3.7618948812794506]|\n",
      "|[0.6432572911233393,-0.2122992437751765] |\n",
      "|[1.3159050700801926,-0.20163524525189527]|\n",
      "|[1.7727839938799108,-0.26869904938669065]|\n",
      "|[1.5878775339906346,1.0222028980506863]  |\n",
      "|[1.967175572670473,0.09360216563019089]  |\n",
      "|[2.6301214229794234,0.14104409660744238] |\n",
      "|[2.3060095853566804,0.3780276922569129]  |\n",
      "|[1.7583364694395265,-0.1547413551582886] |\n",
      "|[2.5267144337077,0.7766733893147872]     |\n",
      "|[1.3270062113365433,-0.30263163594878034]|\n",
      "|[1.7595829497115316,0.1630024579965316]  |\n",
      "|[1.7337408008592359,-0.6474402373687582] |\n",
      "|[1.815596161063436,0.9110151424668075]   |\n",
      "+-----------------------------------------+\n",
      "only showing top 20 rows\n",
      "\n"
     ]
    }
   ],
   "source": [
    "customer_pca_spark.show(truncate=False)"
   ]
  },
  {
   "cell_type": "code",
   "execution_count": 45,
   "id": "bb0054a9-c67f-49de-b355-c32e5f557781",
   "metadata": {
    "tags": []
   },
   "outputs": [
    {
     "name": "stderr",
     "output_type": "stream",
     "text": [
      "                                                                                \r"
     ]
    }
   ],
   "source": [
    "column_names=['Primera_componente','Segunda_Componente']\n",
    "##ESTO ES PARA CONVERTIR EL VECTOR DENSE (DONDE SE HA ALMACENADO LAS COMPONENTES DE SPARK EN UN DATAFRAME)\n",
    "customer_pca = customer_pca_spark.rdd.map(lambda x:[float(y) for y in x['pcaFeatures']]).toDF(column_names)"
   ]
  },
  {
   "cell_type": "code",
   "execution_count": 46,
   "id": "ac5dc5d6-a34e-4b6e-b89c-7da5f60d4f97",
   "metadata": {
    "tags": []
   },
   "outputs": [
    {
     "name": "stdout",
     "output_type": "stream",
     "text": [
      "+--------------------+--------------------+\n",
      "|Primera_componente  |Segunda_Componente  |\n",
      "+--------------------+--------------------+\n",
      "|-0.7341660838269763 |0.8986051399540523  |\n",
      "|2.3787814650682737  |2.692662673419947   |\n",
      "|-0.3396694603751786 |1.1843807733309495  |\n",
      "|0.2827512382120267  |0.00948478537336368 |\n",
      "|-0.2852265225563084 |3.882247740168497   |\n",
      "|1.994334188038595   |-0.06798878644311804|\n",
      "|-0.23527258568068543|3.7618948812794506  |\n",
      "|0.6432572911233393  |-0.2122992437751765 |\n",
      "|1.3159050700801926  |-0.20163524525189527|\n",
      "|1.7727839938799108  |-0.26869904938669065|\n",
      "|1.5878775339906346  |1.0222028980506863  |\n",
      "|1.967175572670473   |0.09360216563019089 |\n",
      "|2.6301214229794234  |0.14104409660744238 |\n",
      "|2.3060095853566804  |0.3780276922569129  |\n",
      "|1.7583364694395265  |-0.1547413551582886 |\n",
      "|2.5267144337077     |0.7766733893147872  |\n",
      "|1.3270062113365433  |-0.30263163594878034|\n",
      "|1.7595829497115316  |0.1630024579965316  |\n",
      "|1.7337408008592359  |-0.6474402373687582 |\n",
      "|1.815596161063436   |0.9110151424668075  |\n",
      "+--------------------+--------------------+\n",
      "only showing top 20 rows\n",
      "\n"
     ]
    }
   ],
   "source": [
    "customer_pca.show(truncate=False)"
   ]
  },
  {
   "cell_type": "code",
   "execution_count": 52,
   "id": "09939564-be9b-4cdd-9c0f-3b39720b4129",
   "metadata": {
    "tags": []
   },
   "outputs": [],
   "source": [
    "customer_pca = customer_pca.toPandas()"
   ]
  },
  {
   "cell_type": "code",
   "execution_count": 53,
   "id": "dd886d42-4065-4b4f-ab6b-fbe1d7ff2194",
   "metadata": {
    "tags": []
   },
   "outputs": [
    {
     "data": {
      "text/html": [
       "<div>\n",
       "<style scoped>\n",
       "    .dataframe tbody tr th:only-of-type {\n",
       "        vertical-align: middle;\n",
       "    }\n",
       "\n",
       "    .dataframe tbody tr th {\n",
       "        vertical-align: top;\n",
       "    }\n",
       "\n",
       "    .dataframe thead th {\n",
       "        text-align: right;\n",
       "    }\n",
       "</style>\n",
       "<table border=\"1\" class=\"dataframe\">\n",
       "  <thead>\n",
       "    <tr style=\"text-align: right;\">\n",
       "      <th></th>\n",
       "      <th>Primera_componente</th>\n",
       "      <th>Segunda_Componente</th>\n",
       "    </tr>\n",
       "  </thead>\n",
       "  <tbody>\n",
       "    <tr>\n",
       "      <th>0</th>\n",
       "      <td>-0.734166</td>\n",
       "      <td>0.898605</td>\n",
       "    </tr>\n",
       "    <tr>\n",
       "      <th>1</th>\n",
       "      <td>2.378781</td>\n",
       "      <td>2.692663</td>\n",
       "    </tr>\n",
       "    <tr>\n",
       "      <th>2</th>\n",
       "      <td>-0.339669</td>\n",
       "      <td>1.184381</td>\n",
       "    </tr>\n",
       "    <tr>\n",
       "      <th>3</th>\n",
       "      <td>0.282751</td>\n",
       "      <td>0.009485</td>\n",
       "    </tr>\n",
       "    <tr>\n",
       "      <th>4</th>\n",
       "      <td>-0.285227</td>\n",
       "      <td>3.882248</td>\n",
       "    </tr>\n",
       "  </tbody>\n",
       "</table>\n",
       "</div>"
      ],
      "text/plain": [
       "   Primera_componente  Segunda_Componente\n",
       "0           -0.734166            0.898605\n",
       "1            2.378781            2.692663\n",
       "2           -0.339669            1.184381\n",
       "3            0.282751            0.009485\n",
       "4           -0.285227            3.882248"
      ]
     },
     "execution_count": 53,
     "metadata": {},
     "output_type": "execute_result"
    }
   ],
   "source": [
    "customer_pca.head()"
   ]
  },
  {
   "cell_type": "code",
   "execution_count": 50,
   "id": "8839cba8-4da4-4a11-99fd-b6ae77048f29",
   "metadata": {
    "tags": []
   },
   "outputs": [
    {
     "data": {
      "text/html": [
       "<div>\n",
       "<style scoped>\n",
       "    .dataframe tbody tr th:only-of-type {\n",
       "        vertical-align: middle;\n",
       "    }\n",
       "\n",
       "    .dataframe tbody tr th {\n",
       "        vertical-align: top;\n",
       "    }\n",
       "\n",
       "    .dataframe thead th {\n",
       "        text-align: right;\n",
       "    }\n",
       "</style>\n",
       "<table border=\"1\" class=\"dataframe\">\n",
       "  <thead>\n",
       "    <tr style=\"text-align: right;\">\n",
       "      <th></th>\n",
       "      <th>Avg_Credit_Limit</th>\n",
       "      <th>Total_Credit_Cards</th>\n",
       "      <th>Total_visits_bank</th>\n",
       "      <th>Total_visits_online</th>\n",
       "      <th>Total_calls_made</th>\n",
       "      <th>features</th>\n",
       "      <th>scaledFeatures</th>\n",
       "      <th>scaledminMaxFeatures</th>\n",
       "      <th>cluster</th>\n",
       "    </tr>\n",
       "  </thead>\n",
       "  <tbody>\n",
       "    <tr>\n",
       "      <th>0</th>\n",
       "      <td>100000.0</td>\n",
       "      <td>2</td>\n",
       "      <td>1</td>\n",
       "      <td>1.0</td>\n",
       "      <td>0</td>\n",
       "      <td>[100000.0, 2.0, 1.0, 1.0, 0.0]</td>\n",
       "      <td>[2.397123666867853, -1.2482780199737058, -0.85...</td>\n",
       "      <td>[0.9509803921568628, 0.1111111111111111, 0.2, ...</td>\n",
       "      <td>2</td>\n",
       "    </tr>\n",
       "    <tr>\n",
       "      <th>1</th>\n",
       "      <td>50000.0</td>\n",
       "      <td>3</td>\n",
       "      <td>0</td>\n",
       "      <td>8.5</td>\n",
       "      <td>9</td>\n",
       "      <td>[50000.0, 3.0, 0.0, 8.5, 9.0]</td>\n",
       "      <td>[0.643130739891375, -0.7869882701513965, -1.47...</td>\n",
       "      <td>[0.4607843137254902, 0.2222222222222222, 0.0, ...</td>\n",
       "      <td>0</td>\n",
       "    </tr>\n",
       "    <tr>\n",
       "      <th>2</th>\n",
       "      <td>50000.0</td>\n",
       "      <td>7</td>\n",
       "      <td>1</td>\n",
       "      <td>3.0</td>\n",
       "      <td>4</td>\n",
       "      <td>[50000.0, 7.0, 1.0, 3.0, 4.0]</td>\n",
       "      <td>[0.643130739891375, 1.0581707291378408, -0.859...</td>\n",
       "      <td>[0.4607843137254902, 0.6666666666666666, 0.2, ...</td>\n",
       "      <td>2</td>\n",
       "    </tr>\n",
       "    <tr>\n",
       "      <th>3</th>\n",
       "      <td>30000.0</td>\n",
       "      <td>5</td>\n",
       "      <td>1</td>\n",
       "      <td>1.0</td>\n",
       "      <td>4</td>\n",
       "      <td>[30000.0, 5.0, 1.0, 1.0, 4.0]</td>\n",
       "      <td>[-0.0584664308992161, 0.13559122949322222, -0....</td>\n",
       "      <td>[0.2647058823529412, 0.4444444444444444, 0.2, ...</td>\n",
       "      <td>2</td>\n",
       "    </tr>\n",
       "    <tr>\n",
       "      <th>4</th>\n",
       "      <td>100000.0</td>\n",
       "      <td>6</td>\n",
       "      <td>0</td>\n",
       "      <td>8.5</td>\n",
       "      <td>3</td>\n",
       "      <td>[100000.0, 6.0, 0.0, 8.5, 3.0]</td>\n",
       "      <td>[2.397123666867853, 0.5968809793155315, -1.472...</td>\n",
       "      <td>[0.9509803921568628, 0.5555555555555556, 0.0, ...</td>\n",
       "      <td>1</td>\n",
       "    </tr>\n",
       "  </tbody>\n",
       "</table>\n",
       "</div>"
      ],
      "text/plain": [
       "   Avg_Credit_Limit  Total_Credit_Cards  Total_visits_bank  \\\n",
       "0          100000.0                   2                  1   \n",
       "1           50000.0                   3                  0   \n",
       "2           50000.0                   7                  1   \n",
       "3           30000.0                   5                  1   \n",
       "4          100000.0                   6                  0   \n",
       "\n",
       "   Total_visits_online  Total_calls_made                        features  \\\n",
       "0                  1.0                 0  [100000.0, 2.0, 1.0, 1.0, 0.0]   \n",
       "1                  8.5                 9   [50000.0, 3.0, 0.0, 8.5, 9.0]   \n",
       "2                  3.0                 4   [50000.0, 7.0, 1.0, 3.0, 4.0]   \n",
       "3                  1.0                 4   [30000.0, 5.0, 1.0, 1.0, 4.0]   \n",
       "4                  8.5                 3  [100000.0, 6.0, 0.0, 8.5, 3.0]   \n",
       "\n",
       "                                      scaledFeatures  \\\n",
       "0  [2.397123666867853, -1.2482780199737058, -0.85...   \n",
       "1  [0.643130739891375, -0.7869882701513965, -1.47...   \n",
       "2  [0.643130739891375, 1.0581707291378408, -0.859...   \n",
       "3  [-0.0584664308992161, 0.13559122949322222, -0....   \n",
       "4  [2.397123666867853, 0.5968809793155315, -1.472...   \n",
       "\n",
       "                                scaledminMaxFeatures  cluster  \n",
       "0  [0.9509803921568628, 0.1111111111111111, 0.2, ...        2  \n",
       "1  [0.4607843137254902, 0.2222222222222222, 0.0, ...        0  \n",
       "2  [0.4607843137254902, 0.6666666666666666, 0.2, ...        2  \n",
       "3  [0.2647058823529412, 0.4444444444444444, 0.2, ...        2  \n",
       "4  [0.9509803921568628, 0.5555555555555556, 0.0, ...        1  "
      ]
     },
     "execution_count": 50,
     "metadata": {},
     "output_type": "execute_result"
    }
   ],
   "source": [
    "customer_bikmeans.head()"
   ]
  },
  {
   "cell_type": "code",
   "execution_count": 54,
   "id": "3b2b5ee0-2981-4726-81b9-5c4144d3ea5c",
   "metadata": {
    "tags": []
   },
   "outputs": [],
   "source": [
    "#Añadimos nuestras predicciones de kmeans al dataset customer que teníamos antes\n",
    "customer_bikmeans = predictionsbikmeans.toPandas()\n",
    "customer_bikmeans = pd.concat([customer_pca, customer_bikmeans[['cluster']]], axis=1)"
   ]
  },
  {
   "cell_type": "code",
   "execution_count": 56,
   "id": "b1f9142f-479c-414e-9108-58c92e1522f4",
   "metadata": {
    "tags": []
   },
   "outputs": [
    {
     "data": {
      "text/html": [
       "<div>\n",
       "<style scoped>\n",
       "    .dataframe tbody tr th:only-of-type {\n",
       "        vertical-align: middle;\n",
       "    }\n",
       "\n",
       "    .dataframe tbody tr th {\n",
       "        vertical-align: top;\n",
       "    }\n",
       "\n",
       "    .dataframe thead th {\n",
       "        text-align: right;\n",
       "    }\n",
       "</style>\n",
       "<table border=\"1\" class=\"dataframe\">\n",
       "  <thead>\n",
       "    <tr style=\"text-align: right;\">\n",
       "      <th></th>\n",
       "      <th>Primera_componente</th>\n",
       "      <th>Segunda_Componente</th>\n",
       "      <th>cluster</th>\n",
       "    </tr>\n",
       "  </thead>\n",
       "  <tbody>\n",
       "    <tr>\n",
       "      <th>0</th>\n",
       "      <td>-0.734166</td>\n",
       "      <td>0.898605</td>\n",
       "      <td>2</td>\n",
       "    </tr>\n",
       "    <tr>\n",
       "      <th>1</th>\n",
       "      <td>2.378781</td>\n",
       "      <td>2.692663</td>\n",
       "      <td>0</td>\n",
       "    </tr>\n",
       "    <tr>\n",
       "      <th>2</th>\n",
       "      <td>-0.339669</td>\n",
       "      <td>1.184381</td>\n",
       "      <td>2</td>\n",
       "    </tr>\n",
       "    <tr>\n",
       "      <th>3</th>\n",
       "      <td>0.282751</td>\n",
       "      <td>0.009485</td>\n",
       "      <td>2</td>\n",
       "    </tr>\n",
       "    <tr>\n",
       "      <th>4</th>\n",
       "      <td>-0.285227</td>\n",
       "      <td>3.882248</td>\n",
       "      <td>1</td>\n",
       "    </tr>\n",
       "  </tbody>\n",
       "</table>\n",
       "</div>"
      ],
      "text/plain": [
       "   Primera_componente  Segunda_Componente  cluster\n",
       "0           -0.734166            0.898605        2\n",
       "1            2.378781            2.692663        0\n",
       "2           -0.339669            1.184381        2\n",
       "3            0.282751            0.009485        2\n",
       "4           -0.285227            3.882248        1"
      ]
     },
     "execution_count": 56,
     "metadata": {},
     "output_type": "execute_result"
    }
   ],
   "source": [
    "customer_bikmeans.head()"
   ]
  },
  {
   "cell_type": "code",
   "execution_count": 57,
   "id": "74ac7e65-a459-4586-99fb-3e373d960b30",
   "metadata": {
    "tags": []
   },
   "outputs": [
    {
     "data": {
      "image/png": "[encoded data removed]",
      "text/plain": [
       "<Figure size 558.875x500 with 1 Axes>"
      ]
     },
     "metadata": {},
     "output_type": "display_data"
    }
   ],
   "source": [
    "# Definir una paleta de colores para los 3 labels\n",
    "palette = sns.color_palette(\"husl\", 3)\n",
    "\n",
    "# Crear el gráfico relacional con colores específicos para cada label\n",
    "sns.relplot(data=customer_bikmeans, x=\"Primera_componente\", y=\"Segunda_Componente\", hue=\"cluster\", palette=palette)\n",
    "\n",
    "plt.show()"
   ]
  },
  {
   "cell_type": "markdown",
   "id": "dd42bfd4-df29-4099-a3ab-30f59c087974",
   "metadata": {},
   "source": [
    "LA ÚNICA DIFERENCIA CON EL MODELO BISECTING K-MEANS ES QUE ESTE MODELO ES SENSIBLE AL ESCALADO STANDARDSCALER QUE CONVIERTE LOS DATOS A UNA DISTRIBUCIÓN NORMAL. ENTONCES, POR ESA RAZÓN SE HA UTILIZADO OTRO ESCALADO CONOCIDO COMO MINMAXSCALER, QUE TAMBIÉN DA BUEN RESULTADO Y EL COEFICIENTE DE SILUETTE ES NOTABLEMENTE BUENO, AUNQUE LIGERAMENTE MÁS BAJO QUE EL MODELO RENDIDO DE K-MEANS Y GMM."
   ]
  },
  {
   "cell_type": "code",
   "execution_count": null,
   "id": "de3cc72b-a59c-46f9-9a6e-3c25f14148d1",
   "metadata": {},
   "outputs": [],
   "source": []
  }
 ],
 "metadata": {
  "kernelspec": {
   "display_name": "Python 3 (ipykernel)",
   "language": "python",
   "name": "python3"
  },
  "language_info": {
   "codemirror_mode": {
    "name": "ipython",
    "version": 3
   },
   "file_extension": ".py",
   "mimetype": "text/x-python",
   "name": "python",
   "nbconvert_exporter": "python",
   "pygments_lexer": "ipython3",
   "version": "3.8.16"
  }
 },
 "nbformat": 4,
 "nbformat_minor": 5
}
